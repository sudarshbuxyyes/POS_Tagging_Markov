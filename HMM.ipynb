{
 "cells": [
  {
   "cell_type": "code",
   "execution_count": 39,
   "id": "1263ba2a",
   "metadata": {},
   "outputs": [],
   "source": [
    "import numpy as np\n",
    "import math\n",
    "import string\n",
    "from collections import defaultdict\n",
    "import pandas as pd"
   ]
  },
  {
   "cell_type": "code",
   "execution_count": 3,
   "id": "ab54a885",
   "metadata": {},
   "outputs": [],
   "source": [
    "#Initialization\n",
    "\n",
    "setPunctuation = set(string.punctuation)\n",
    "suffixNoun = [\"action\", \"age\", \"ance\", \"cy\", \"dom\", \"ee\", \"ence\", \"er\", \"hood\", \"ion\", \"ism\", \"ist\", \"ity\", \"ling\", \"ment\", \"ness\", \"or\", \"ry\", \"scape\", \"ship\", \"ty\"]\n",
    "suffixVerb = [\"ate\", \"ify\", \"ise\", \"ize\"]\n",
    "suffixAdjective = [\"able\", \"ese\", \"ful\", \"i\", \"ian\", \"ible\", \"ic\", \"ish\", \"ive\", \"less\", \"ly\", \"ous\"]\n",
    "suffixAdverb = [\"ward\", \"wards\", \"wise\"]"
   ]
  },
  {
   "cell_type": "code",
   "execution_count": 21,
   "id": "d80fd795",
   "metadata": {},
   "outputs": [],
   "source": [
    "# preprocessing datasets\n",
    "\n",
    "def testingDataSet_preProcessing(vocabulary, file):\n",
    "    preprossed = []\n",
    "    \n",
    "    with open(file, \"r\") as f:\n",
    "        for index, word in enumerate(f):\n",
    "            if not word.split():\n",
    "                word = \"--n--\"\n",
    "                preprossed.append(word)\n",
    "\n",
    "            elif word.strip() not in vocabulary:\n",
    "                word = tagAllotement(word)\n",
    "                preprossed.append(word)\n",
    "\n",
    "            else:\n",
    "                preprossed.append(word.strip())\n",
    "\n",
    "    return preprossed\n",
    "\n",
    "\n",
    "def tagAllotement(word):\n",
    "    if any(char.isdigit() for char in word):\n",
    "        return \"--unk_digit--\"\n",
    "\n",
    "    elif any(char in setPunctuation for char in word):\n",
    "        return \"--unk_punct--\"\n",
    "\n",
    "    elif any(char.isupper() for char in word):\n",
    "        return \"--unk_upper--\"\n",
    "\n",
    "    elif any(word.endswith(suffix) for suffix in suffixNoun):\n",
    "        return \"--unk_noun--\"\n",
    "\n",
    "    elif any(word.endswith(suffix) for suffix in suffixVerb):\n",
    "        return \"--unk_verb--\"\n",
    "\n",
    "    elif any(word.endswith(suffix) for suffix in suffixAdjective):\n",
    "        return \"--unk_adj--\"\n",
    "\n",
    "    elif any(word.endswith(suffix) for suffix in suffixAdverb):\n",
    "        return \"--unk_adv--\"\n",
    "    return \"--unk--\"\n",
    "\n",
    "def preprocessWord(wordTagPair, vocabulary): \n",
    "    if not wordTagPair.split():\n",
    "        word = \"--n--\"\n",
    "        tag = \"--s--\"\n",
    "        return word, tag\n",
    "    else:\n",
    "        word,tag = wordTagPair.split()\n",
    "        if word not in vocabulary: \n",
    "            word = tagAllotement(word)\n",
    "        return word, tag\n",
    "    return None "
   ]
  },
  {
   "cell_type": "code",
   "execution_count": 9,
   "id": "75c7cc5c",
   "metadata": {},
   "outputs": [],
   "source": [
    "# datasets - training + testing\n",
    "#trainingDataset - list holding the training data [format: word tag]\n",
    "#voc - list holding the vocabulary [format: word] \n",
    "#vocabulary - dictionary [format: key:word, value:index]\n",
    "vocabulary = {}  \n",
    "\n",
    "with open(\"WSJ_02-21.pos\", 'r') as file:\n",
    "    trainingDataset = file.readlines()\n",
    "\n",
    "with open(\"WSJ_24.pos\", 'r') as file:\n",
    "    testingDataset = file.readlines()\n",
    "    \n",
    "with open(\"hmm_vocab.txt\", 'r') as file:\n",
    "    voc = file.read().split('\\n')\n",
    "\n",
    "i = 0\n",
    "for word in voc:\n",
    "    vocabulary[word] = i\n",
    "    i+=1\n",
    "    \n",
    "#preprocess testingDataSet\n",
    "preprocessedTestingData = testingDataSet_preProcessing(vocabulary, \"test.words\") "
   ]
  },
  {
   "cell_type": "markdown",
   "id": "9ff562d1",
   "metadata": {},
   "source": [
    "### Part 1 - Parts-of-speech tagging"
   ]
  },
  {
   "cell_type": "code",
   "execution_count": 23,
   "id": "5f2005e8",
   "metadata": {},
   "outputs": [],
   "source": [
    "def calcCounts(trainingDataset, vocabulary):\n",
    "    #countEmission - #(tag,word) pairs\n",
    "    #countTransition - #(tag,tag) pairs\n",
    "    #countTag - #tags\n",
    "    countEmission = defaultdict(int)\n",
    "    countTransition = defaultdict(int)\n",
    "    countTag = defaultdict(int)\n",
    "    \n",
    "    previousTag = '--s--' \n",
    "    index = 0 \n",
    "    \n",
    "    for wordTagPair in trainingDataset:\n",
    "        index+=1\n",
    "\n",
    "        word, tag = preprocessWord(wordTagPair, vocabulary)\n",
    "        \n",
    "        countTransition[(previousTag, tag)] += 1\n",
    "        countEmission[(tag, word)] += 1\n",
    "        countTag[tag] += 1\n",
    "        \n",
    "        previousTag = tag\n",
    "        \n",
    "    return countEmission, countTransition, countTag"
   ]
  },
  {
   "cell_type": "code",
   "execution_count": 24,
   "id": "088b0199",
   "metadata": {},
   "outputs": [],
   "source": [
    "countEmission, countTransition, countTag = calcCounts(trainingDataset, vocabulary)"
   ]
  },
  {
   "cell_type": "code",
   "execution_count": 28,
   "id": "e8e5ba47",
   "metadata": {},
   "outputs": [
    {
     "name": "stdout",
     "output_type": "stream",
     "text": [
      "['#', '$', \"''\", '(', ')', ',', '--s--', '.', ':', 'CC', 'CD', 'DT', 'EX', 'FW', 'IN', 'JJ', 'JJR', 'JJS', 'LS', 'MD', 'NN', 'NNP', 'NNPS', 'NNS', 'PDT', 'POS', 'PRP', 'PRP$', 'RB', 'RBR', 'RBS', 'RP', 'SYM', 'TO', 'UH', 'VB', 'VBD', 'VBG', 'VBN', 'VBP', 'VBZ', 'WDT', 'WP', 'WP$', 'WRB', '``']\n"
     ]
    }
   ],
   "source": [
    "markovStates = sorted(countTag.keys())\n",
    "print(markovStates)"
   ]
  },
  {
   "cell_type": "code",
   "execution_count": 29,
   "id": "e1e8f404",
   "metadata": {},
   "outputs": [],
   "source": [
    "# accuracy of naive approach\n",
    "\n",
    "def accuracyNaiveAppraoch(markovStates, preprocessedTestingData, testingDataset, vocabulary, countEmission):\n",
    "\n",
    "    accuratePredictions = 0\n",
    "    tagWordPair = set(countEmission.keys())\n",
    "\n",
    "    for word, testingData_wordTag in zip(preprocessedTestingData, testingDataset): \n",
    "\n",
    "        testingData_wordTag = testingData_wordTag.split()\n",
    "        if len(testingData_wordTag) == 2:\n",
    "            correctTag = testingData_wordTag[1]\n",
    "        else:\n",
    "            continue\n",
    "\n",
    "        maximumCount = 0\n",
    "        maximizingPOS = ''\n",
    "    \n",
    "        if word not in vocabulary:\n",
    "            continue\n",
    "        elif word in vocabulary:\n",
    "            for possibleTag in markovStates:\n",
    "                possibleKey = (possibleTag, word)\n",
    "                if possibleKey in countEmission:\n",
    "                    count = countEmission[possibleKey]\n",
    "                    if count > maximumCount:\n",
    "                        maximumCount = count\n",
    "                        maximizingPOS = possibleTag\n",
    "                        \n",
    "            if maximizingPOS == correctTag:\n",
    "                accuratePredictions += 1\n",
    "\n",
    "    accuratePredictions /= len(testingDataset)\n",
    "    return accuratePredictions"
   ]
  },
  {
   "cell_type": "code",
   "execution_count": 34,
   "id": "3b0f5a73",
   "metadata": {},
   "outputs": [
    {
     "name": "stdout",
     "output_type": "stream",
     "text": [
      "Naive accuracy is 88.88563993099213 %\n"
     ]
    }
   ],
   "source": [
    "accuracyNaive = accuracyNaiveAppraoch(markovStates, preprocessedTestingData, testingDataset, vocabulary, countEmission)\n",
    "print(\"Naive accuracy is \"+str(accuracy_predict_pos*100)+\" %\")"
   ]
  },
  {
   "cell_type": "markdown",
   "id": "73e16602",
   "metadata": {},
   "source": [
    "### Part 2 - Hidden Markov Models for POS"
   ]
  },
  {
   "cell_type": "code",
   "execution_count": 37,
   "id": "d82420cd",
   "metadata": {},
   "outputs": [],
   "source": [
    "def calcTransitionMatrix(countTransition, countTag, epsilon, markovStates):\n",
    "    \n",
    "    numberStates = len(markovStates)\n",
    "    transitionMatrix = np.zeros((numberStates, numberStates))\n",
    "    tagTagPair = set(countTransition.keys())\n",
    "\n",
    "    for i in range(numberStates):\n",
    "        for j in range(numberStates):\n",
    "            countNextTag = 0\n",
    "            key = (markovStates[i],markovStates[j])\n",
    "            \n",
    "            if key in countTransition: \n",
    "                countNextTag = countTransition[key]\n",
    "                \n",
    "            countPreviousTag = countTag[key[0]]\n",
    "            transitionMatrix[i][j] = (countNextTag+epsilon)/(countPreviousTag+(numberStates*epsilon))\n",
    "\n",
    "    return transitionMatrix"
   ]
  },
  {
   "cell_type": "code",
   "execution_count": 41,
   "id": "cef99360",
   "metadata": {},
   "outputs": [],
   "source": [
    "epsilon = 0.001\n",
    "transitionMatrix = calcTransitionMatrix(countTransition, countTag, epsilon, markovStates)"
   ]
  },
  {
   "cell_type": "code",
   "execution_count": 53,
   "id": "0760183a",
   "metadata": {},
   "outputs": [],
   "source": [
    "def calcEmissionMatrix(countEmission, countTag, epsilon, markovStates, vocabulary):\n",
    "\n",
    "    numberStates = len(markovStates)\n",
    "    numberWords = len(vocabulary)\n",
    "    emissionMatrix = np.zeros((numberStates, numberWords))\n",
    "    tagWordPair = set(list(countEmission.keys()))\n",
    "    \n",
    "    for i in range(numberStates):\n",
    "        for j in range(numberWords):\n",
    "            countWord = 0\n",
    "            key =  (markovStates[i],vocabulary[j])\n",
    "\n",
    "            if key in countEmission: \n",
    "                countWord = countEmission[key]\n",
    "\n",
    "            countTags = countTag[key[0]]\n",
    "\n",
    "            emissionMatrix[i][j] = (countWord+epsilon)/(countTags+(epsilon*numberWords))\n",
    "\n",
    "    return emissionMatrix"
   ]
  },
  {
   "cell_type": "code",
   "execution_count": 57,
   "id": "c431bba1",
   "metadata": {},
   "outputs": [],
   "source": [
    "emissionMatrix = calcEmissionMatrix(countEmission, countTag, epsilon, markovStates,  list(vocabulary))"
   ]
  },
  {
   "cell_type": "code",
   "execution_count": null,
   "id": "5f13b223",
   "metadata": {},
   "outputs": [],
   "source": []
  }
 ],
 "metadata": {
  "kernelspec": {
   "display_name": "Python 3 (ipykernel)",
   "language": "python",
   "name": "python3"
  },
  "language_info": {
   "codemirror_mode": {
    "name": "ipython",
    "version": 3
   },
   "file_extension": ".py",
   "mimetype": "text/x-python",
   "name": "python",
   "nbconvert_exporter": "python",
   "pygments_lexer": "ipython3",
   "version": "3.9.6"
  }
 },
 "nbformat": 4,
 "nbformat_minor": 5
}
